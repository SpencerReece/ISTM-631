{
  "nbformat": 4,
  "nbformat_minor": 0,
  "metadata": {
    "colab": {
      "name": "ISTM631_HW2.ipynb",
      "provenance": [],
      "authorship_tag": "ABX9TyOK2MXp/DCK+k4Zemxrdt7A",
      "include_colab_link": true
    },
    "kernelspec": {
      "name": "python3",
      "display_name": "Python 3"
    }
  },
  "cells": [
    {
      "cell_type": "markdown",
      "metadata": {
        "id": "view-in-github",
        "colab_type": "text"
      },
      "source": [
        "<a href=\"https://colab.research.google.com/github/SpencerReece/ISTM-631/blob/main/ISTM631_HW2.ipynb\" target=\"_parent\"><img src=\"https://colab.research.google.com/assets/colab-badge.svg\" alt=\"Open In Colab\"/></a>"
      ]
    },
    {
      "cell_type": "markdown",
      "metadata": {
        "id": "YXb5bbDxlqlT"
      },
      "source": [
        "ISTM 631 Homework 2\n",
        "\n",
        "The Albums Back in Black, The Bodyguard and Thriller have the following music recording sales in millions 50, 50 and 65 respectively:\n",
        "\n",
        "a) Create a dictionary album_sales_dict where the keys are the album name and the sales in millions are the values.\n",
        "\n",
        "b) Use the dictionary to find the total sales of Thriller:\n",
        "\n",
        "c) Find the names of the albums from the dictionary using the method keys:\n"
      ]
    },
    {
      "cell_type": "code",
      "metadata": {
        "id": "PQGdZBdOlp5I"
      },
      "source": [
        "# Create album sales dictionary\n",
        "\n",
        "album_sales_dict = {\"Thriller\": 50, \"Back in Black\": 50, \"The Bodyguard\": 65}"
      ],
      "execution_count": null,
      "outputs": []
    },
    {
      "cell_type": "code",
      "metadata": {
        "id": "g3vBrh4MoKJw",
        "outputId": "1609c27a-6278-4021-9fd2-d87811202785",
        "colab": {
          "base_uri": "https://localhost:8080/"
        }
      },
      "source": [
        "album_sales_dict['Thriller']"
      ],
      "execution_count": null,
      "outputs": [
        {
          "output_type": "execute_result",
          "data": {
            "text/plain": [
              "50"
            ]
          },
          "metadata": {
            "tags": []
          },
          "execution_count": 14
        }
      ]
    },
    {
      "cell_type": "code",
      "metadata": {
        "id": "EkC2BUydoKUa",
        "outputId": "8df44ab9-60de-4d8a-eca3-b7c59f0b7844",
        "colab": {
          "base_uri": "https://localhost:8080/"
        }
      },
      "source": [
        "album_sales_dict.keys()"
      ],
      "execution_count": null,
      "outputs": [
        {
          "output_type": "execute_result",
          "data": {
            "text/plain": [
              "dict_keys(['Thriller', 'Back in Black', 'The Bodyguard'])"
            ]
          },
          "metadata": {
            "tags": []
          },
          "execution_count": 15
        }
      ]
    }
  ]
}