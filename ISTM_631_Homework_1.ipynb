{
  "nbformat": 4,
  "nbformat_minor": 0,
  "metadata": {
    "colab": {
      "name": "ISTM 631 Homework 1.ipynb",
      "provenance": [],
      "authorship_tag": "ABX9TyOrpjvbH42/x4W1SWaojIbT",
      "include_colab_link": true
    },
    "kernelspec": {
      "name": "python3",
      "display_name": "Python 3"
    }
  },
  "cells": [
    {
      "cell_type": "markdown",
      "metadata": {
        "id": "view-in-github",
        "colab_type": "text"
      },
      "source": [
        "<a href=\"https://colab.research.google.com/github/SpencerReece/ISTM-631/blob/main/ISTM_631_Homework_1.ipynb\" target=\"_parent\"><img src=\"https://colab.research.google.com/assets/colab-badge.svg\" alt=\"Open In Colab\"/></a>"
      ]
    },
    {
      "cell_type": "markdown",
      "metadata": {
        "id": "vJWtDUEW4tJx"
      },
      "source": [
        "Explain two algorithms to find \"V\" in the string provided and compare them"
      ]
    },
    {
      "cell_type": "code",
      "metadata": {
        "id": "ASFPXFbH4baZ"
      },
      "source": [
        "Name = 'Arash Vafanejad'"
      ],
      "execution_count": null,
      "outputs": []
    },
    {
      "cell_type": "code",
      "metadata": {
        "id": "QqMp3e8H4lon",
        "outputId": "18a6fb18-4169-48e2-e3c4-b64b3faa6cf1",
        "colab": {
          "base_uri": "https://localhost:8080/"
        }
      },
      "source": [
        "Name.find('V')"
      ],
      "execution_count": null,
      "outputs": [
        {
          "output_type": "execute_result",
          "data": {
            "text/plain": [
              "6"
            ]
          },
          "metadata": {
            "tags": []
          },
          "execution_count": 2
        }
      ]
    },
    {
      "cell_type": "code",
      "metadata": {
        "id": "xUjSPWdh4l0x",
        "outputId": "ad742198-fb54-4395-d41d-47ef2cd731a6",
        "colab": {
          "base_uri": "https://localhost:8080/"
        }
      },
      "source": [
        "print(Name.find('V',0,14))"
      ],
      "execution_count": null,
      "outputs": [
        {
          "output_type": "stream",
          "text": [
            "6\n"
          ],
          "name": "stdout"
        }
      ]
    }
  ]
}